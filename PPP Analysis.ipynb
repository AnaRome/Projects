{
 "cells": [
  {
   "cell_type": "markdown",
   "id": "9e2a6bcf",
   "metadata": {},
   "source": [
    "# Setup, Extraction, Cleaning, Transformation"
   ]
  },
  {
   "cell_type": "markdown",
   "id": "5765da2a",
   "metadata": {},
   "source": [
    "Import libraries to be used"
   ]
  },
  {
   "cell_type": "code",
   "execution_count": 1,
   "id": "ab5b8218",
   "metadata": {},
   "outputs": [],
   "source": [
    "%matplotlib inline\n",
    "import pandas as pd\n",
    "import numpy as np\n",
    "import matplotlib.pyplot as plt\n",
    "import seaborn as sns \n",
    "#sns.set(style=\"darkgrid\")\n",
    "from pandas_profiling import ProfileReport\n",
    "import math\n",
    "import scipy.stats\n"
   ]
  },
  {
   "cell_type": "markdown",
   "id": "9eb8ca5d",
   "metadata": {},
   "source": [
    "Retrieve and read in dataset."
   ]
  },
  {
   "cell_type": "code",
   "execution_count": 2,
   "id": "56ef99dc",
   "metadata": {},
   "outputs": [],
   "source": [
    "url = (r'https://data.sba.gov/dataset/8aa276e2-6cab-4f86-aca4-a7dde42adf24/resource/809345ac-f85d-487e-b07b-f9a34064564d/download/public_up_to_150k_12_220102.csv')\n",
    "ppp_data = pd.read_csv(url)"
   ]
  },
  {
   "cell_type": "markdown",
   "id": "e02b1135",
   "metadata": {},
   "source": [
    "View columns."
   ]
  },
  {
   "cell_type": "code",
   "execution_count": 3,
   "id": "f83d3ad0",
   "metadata": {},
   "outputs": [
    {
     "data": {
      "text/html": [
       "<div>\n",
       "<style scoped>\n",
       "    .dataframe tbody tr th:only-of-type {\n",
       "        vertical-align: middle;\n",
       "    }\n",
       "\n",
       "    .dataframe tbody tr th {\n",
       "        vertical-align: top;\n",
       "    }\n",
       "\n",
       "    .dataframe thead th {\n",
       "        text-align: right;\n",
       "    }\n",
       "</style>\n",
       "<table border=\"1\" class=\"dataframe\">\n",
       "  <thead>\n",
       "    <tr style=\"text-align: right;\">\n",
       "      <th></th>\n",
       "      <th>LoanNumber</th>\n",
       "      <th>DateApproved</th>\n",
       "      <th>SBAOfficeCode</th>\n",
       "      <th>ProcessingMethod</th>\n",
       "      <th>BorrowerName</th>\n",
       "      <th>BorrowerAddress</th>\n",
       "      <th>BorrowerCity</th>\n",
       "      <th>BorrowerState</th>\n",
       "      <th>BorrowerZip</th>\n",
       "      <th>LoanStatusDate</th>\n",
       "      <th>LoanStatus</th>\n",
       "      <th>Term</th>\n",
       "      <th>SBAGuarantyPercentage</th>\n",
       "      <th>InitialApprovalAmount</th>\n",
       "      <th>CurrentApprovalAmount</th>\n",
       "      <th>UndisbursedAmount</th>\n",
       "      <th>FranchiseName</th>\n",
       "      <th>ServicingLenderLocationID</th>\n",
       "      <th>ServicingLenderName</th>\n",
       "      <th>ServicingLenderAddress</th>\n",
       "      <th>ServicingLenderCity</th>\n",
       "      <th>ServicingLenderState</th>\n",
       "      <th>ServicingLenderZip</th>\n",
       "      <th>RuralUrbanIndicator</th>\n",
       "      <th>HubzoneIndicator</th>\n",
       "      <th>LMIIndicator</th>\n",
       "      <th>BusinessAgeDescription</th>\n",
       "      <th>ProjectCity</th>\n",
       "      <th>ProjectCountyName</th>\n",
       "      <th>ProjectState</th>\n",
       "      <th>ProjectZip</th>\n",
       "      <th>CD</th>\n",
       "      <th>JobsReported</th>\n",
       "      <th>NAICSCode</th>\n",
       "      <th>Race</th>\n",
       "      <th>Ethnicity</th>\n",
       "      <th>UTILITIES_PROCEED</th>\n",
       "      <th>PAYROLL_PROCEED</th>\n",
       "      <th>MORTGAGE_INTEREST_PROCEED</th>\n",
       "      <th>RENT_PROCEED</th>\n",
       "      <th>REFINANCE_EIDL_PROCEED</th>\n",
       "      <th>HEALTH_CARE_PROCEED</th>\n",
       "      <th>DEBT_INTEREST_PROCEED</th>\n",
       "      <th>BusinessType</th>\n",
       "      <th>OriginatingLenderLocationID</th>\n",
       "      <th>OriginatingLender</th>\n",
       "      <th>OriginatingLenderCity</th>\n",
       "      <th>OriginatingLenderState</th>\n",
       "      <th>Gender</th>\n",
       "      <th>Veteran</th>\n",
       "      <th>NonProfit</th>\n",
       "      <th>ForgivenessAmount</th>\n",
       "      <th>ForgivenessDate</th>\n",
       "    </tr>\n",
       "  </thead>\n",
       "  <tbody>\n",
       "    <tr>\n",
       "      <th>0</th>\n",
       "      <td>6214548307</td>\n",
       "      <td>01/26/2021</td>\n",
       "      <td>304</td>\n",
       "      <td>PPS</td>\n",
       "      <td>BEDFORD FAMILY URGENT CARE INC.</td>\n",
       "      <td>1368 American Way</td>\n",
       "      <td>Bedford</td>\n",
       "      <td>VA</td>\n",
       "      <td>24523-2940</td>\n",
       "      <td>09/17/2021</td>\n",
       "      <td>Paid in Full</td>\n",
       "      <td>60</td>\n",
       "      <td>100</td>\n",
       "      <td>88459.95</td>\n",
       "      <td>88459.95</td>\n",
       "      <td>0.0</td>\n",
       "      <td>NaN</td>\n",
       "      <td>447640</td>\n",
       "      <td>Select Bank</td>\n",
       "      <td>211 Gristmill Dr</td>\n",
       "      <td>FOREST</td>\n",
       "      <td>VA</td>\n",
       "      <td>24551-2605</td>\n",
       "      <td>R</td>\n",
       "      <td>Y</td>\n",
       "      <td>N</td>\n",
       "      <td>Existing or more than 2 years old</td>\n",
       "      <td>Bedford</td>\n",
       "      <td>BEDFORD</td>\n",
       "      <td>VA</td>\n",
       "      <td>24523-2940</td>\n",
       "      <td>VA-05</td>\n",
       "      <td>7.0</td>\n",
       "      <td>621111.0</td>\n",
       "      <td>Unanswered</td>\n",
       "      <td>Unknown/NotStated</td>\n",
       "      <td>NaN</td>\n",
       "      <td>88459.95</td>\n",
       "      <td>NaN</td>\n",
       "      <td>NaN</td>\n",
       "      <td>NaN</td>\n",
       "      <td>NaN</td>\n",
       "      <td>NaN</td>\n",
       "      <td>Subchapter S Corporation</td>\n",
       "      <td>447640</td>\n",
       "      <td>Select Bank</td>\n",
       "      <td>FOREST</td>\n",
       "      <td>VA</td>\n",
       "      <td>Unanswered</td>\n",
       "      <td>Unanswered</td>\n",
       "      <td>NaN</td>\n",
       "      <td>88898.61</td>\n",
       "      <td>08/06/2021</td>\n",
       "    </tr>\n",
       "    <tr>\n",
       "      <th>1</th>\n",
       "      <td>3199818509</td>\n",
       "      <td>02/23/2021</td>\n",
       "      <td>304</td>\n",
       "      <td>PPS</td>\n",
       "      <td>WHITE ELECTRICAL SERVICES LLC</td>\n",
       "      <td>2431 Bluff Rd</td>\n",
       "      <td>Roanoke</td>\n",
       "      <td>VA</td>\n",
       "      <td>24014-3903</td>\n",
       "      <td>NaN</td>\n",
       "      <td>Exemption 4</td>\n",
       "      <td>60</td>\n",
       "      <td>100</td>\n",
       "      <td>88453.30</td>\n",
       "      <td>88453.30</td>\n",
       "      <td>0.0</td>\n",
       "      <td>NaN</td>\n",
       "      <td>73215</td>\n",
       "      <td>American National Bank and Trust Company</td>\n",
       "      <td>628 Main St</td>\n",
       "      <td>DANVILLE</td>\n",
       "      <td>VA</td>\n",
       "      <td>24541-1320</td>\n",
       "      <td>U</td>\n",
       "      <td>N</td>\n",
       "      <td>N</td>\n",
       "      <td>Existing or more than 2 years old</td>\n",
       "      <td>Roanoke</td>\n",
       "      <td>ROANOKE</td>\n",
       "      <td>VA</td>\n",
       "      <td>24014-3903</td>\n",
       "      <td>VA-06</td>\n",
       "      <td>10.0</td>\n",
       "      <td>238210.0</td>\n",
       "      <td>Unanswered</td>\n",
       "      <td>Unknown/NotStated</td>\n",
       "      <td>NaN</td>\n",
       "      <td>88453.30</td>\n",
       "      <td>NaN</td>\n",
       "      <td>NaN</td>\n",
       "      <td>NaN</td>\n",
       "      <td>NaN</td>\n",
       "      <td>NaN</td>\n",
       "      <td>Limited  Liability Company(LLC)</td>\n",
       "      <td>73215</td>\n",
       "      <td>American National Bank and Trust Company</td>\n",
       "      <td>DANVILLE</td>\n",
       "      <td>VA</td>\n",
       "      <td>Unanswered</td>\n",
       "      <td>Unanswered</td>\n",
       "      <td>NaN</td>\n",
       "      <td>89151.10</td>\n",
       "      <td>12/07/2021</td>\n",
       "    </tr>\n",
       "    <tr>\n",
       "      <th>2</th>\n",
       "      <td>5012337108</td>\n",
       "      <td>04/13/2020</td>\n",
       "      <td>304</td>\n",
       "      <td>PPP</td>\n",
       "      <td>SOUTH BOSTON HARDWARE &amp; POWER EQUIPMENT INC</td>\n",
       "      <td>307 Broad Street</td>\n",
       "      <td>SOUTH BOSTON</td>\n",
       "      <td>VA</td>\n",
       "      <td>24592-4611</td>\n",
       "      <td>02/20/2021</td>\n",
       "      <td>Paid in Full</td>\n",
       "      <td>24</td>\n",
       "      <td>100</td>\n",
       "      <td>88445.58</td>\n",
       "      <td>88445.58</td>\n",
       "      <td>0.0</td>\n",
       "      <td>NaN</td>\n",
       "      <td>73481</td>\n",
       "      <td>Benchmark Community Bank</td>\n",
       "      <td>204 S Broad St</td>\n",
       "      <td>KENBRIDGE</td>\n",
       "      <td>VA</td>\n",
       "      <td>23944</td>\n",
       "      <td>R</td>\n",
       "      <td>Y</td>\n",
       "      <td>N</td>\n",
       "      <td>Existing or more than 2 years old</td>\n",
       "      <td>SOUTH BOSTON</td>\n",
       "      <td>HALIFAX</td>\n",
       "      <td>VA</td>\n",
       "      <td>24592-4611</td>\n",
       "      <td>VA-05</td>\n",
       "      <td>13.0</td>\n",
       "      <td>444130.0</td>\n",
       "      <td>Unanswered</td>\n",
       "      <td>Unknown/NotStated</td>\n",
       "      <td>11055.69</td>\n",
       "      <td>66334.20</td>\n",
       "      <td>11055.69</td>\n",
       "      <td>NaN</td>\n",
       "      <td>NaN</td>\n",
       "      <td>NaN</td>\n",
       "      <td>NaN</td>\n",
       "      <td>Corporation</td>\n",
       "      <td>73481</td>\n",
       "      <td>Benchmark Community Bank</td>\n",
       "      <td>KENBRIDGE</td>\n",
       "      <td>VA</td>\n",
       "      <td>Unanswered</td>\n",
       "      <td>Unanswered</td>\n",
       "      <td>NaN</td>\n",
       "      <td>89094.99</td>\n",
       "      <td>01/14/2021</td>\n",
       "    </tr>\n",
       "    <tr>\n",
       "      <th>3</th>\n",
       "      <td>5288047410</td>\n",
       "      <td>05/12/2020</td>\n",
       "      <td>304</td>\n",
       "      <td>PPP</td>\n",
       "      <td>COMPLETE CONTRACTING LLC</td>\n",
       "      <td>PO Box 39</td>\n",
       "      <td>Sutherland</td>\n",
       "      <td>VA</td>\n",
       "      <td>23885</td>\n",
       "      <td>06/17/2021</td>\n",
       "      <td>Paid in Full</td>\n",
       "      <td>24</td>\n",
       "      <td>100</td>\n",
       "      <td>88445.00</td>\n",
       "      <td>88445.00</td>\n",
       "      <td>0.0</td>\n",
       "      <td>NaN</td>\n",
       "      <td>225134</td>\n",
       "      <td>Truist Bank d/b/a Branch Banking &amp; Trust Co</td>\n",
       "      <td>214 N Tryon St</td>\n",
       "      <td>CHARLOTTE</td>\n",
       "      <td>NC</td>\n",
       "      <td>28202-1078</td>\n",
       "      <td>R</td>\n",
       "      <td>N</td>\n",
       "      <td>N</td>\n",
       "      <td>Existing or more than 2 years old</td>\n",
       "      <td>Sutherland</td>\n",
       "      <td>DINWIDDIE</td>\n",
       "      <td>VA</td>\n",
       "      <td>23885-0001</td>\n",
       "      <td>VA-04</td>\n",
       "      <td>11.0</td>\n",
       "      <td>531110.0</td>\n",
       "      <td>Unanswered</td>\n",
       "      <td>Unknown/NotStated</td>\n",
       "      <td>NaN</td>\n",
       "      <td>88445.00</td>\n",
       "      <td>NaN</td>\n",
       "      <td>NaN</td>\n",
       "      <td>NaN</td>\n",
       "      <td>NaN</td>\n",
       "      <td>NaN</td>\n",
       "      <td>Limited  Liability Company(LLC)</td>\n",
       "      <td>225134</td>\n",
       "      <td>Truist Bank d/b/a Branch Banking &amp; Trust Co</td>\n",
       "      <td>CHARLOTTE</td>\n",
       "      <td>NC</td>\n",
       "      <td>Unanswered</td>\n",
       "      <td>Unanswered</td>\n",
       "      <td>NaN</td>\n",
       "      <td>89356.47</td>\n",
       "      <td>05/25/2021</td>\n",
       "    </tr>\n",
       "    <tr>\n",
       "      <th>4</th>\n",
       "      <td>1687107207</td>\n",
       "      <td>04/15/2020</td>\n",
       "      <td>304</td>\n",
       "      <td>PPP</td>\n",
       "      <td>NORTON TRACT &amp; ROLLER, INC</td>\n",
       "      <td>1509 MAIN AVE PO Box 566</td>\n",
       "      <td>NORTON</td>\n",
       "      <td>VA</td>\n",
       "      <td>24273-2209</td>\n",
       "      <td>01/07/2021</td>\n",
       "      <td>Paid in Full</td>\n",
       "      <td>24</td>\n",
       "      <td>100</td>\n",
       "      <td>88437.90</td>\n",
       "      <td>88437.90</td>\n",
       "      <td>0.0</td>\n",
       "      <td>NaN</td>\n",
       "      <td>123348</td>\n",
       "      <td>New Peoples Bank, Inc.</td>\n",
       "      <td>53 Commerce Dr</td>\n",
       "      <td>HONAKER</td>\n",
       "      <td>VA</td>\n",
       "      <td>24260</td>\n",
       "      <td>U</td>\n",
       "      <td>N</td>\n",
       "      <td>Y</td>\n",
       "      <td>Existing or more than 2 years old</td>\n",
       "      <td>NORTON</td>\n",
       "      <td>NORTON CITY</td>\n",
       "      <td>VA</td>\n",
       "      <td>24273-2209</td>\n",
       "      <td>VA-09</td>\n",
       "      <td>16.0</td>\n",
       "      <td>811310.0</td>\n",
       "      <td>Unanswered</td>\n",
       "      <td>Unknown/NotStated</td>\n",
       "      <td>NaN</td>\n",
       "      <td>88437.90</td>\n",
       "      <td>NaN</td>\n",
       "      <td>NaN</td>\n",
       "      <td>NaN</td>\n",
       "      <td>NaN</td>\n",
       "      <td>NaN</td>\n",
       "      <td>Corporation</td>\n",
       "      <td>123348</td>\n",
       "      <td>New Peoples Bank, Inc.</td>\n",
       "      <td>HONAKER</td>\n",
       "      <td>VA</td>\n",
       "      <td>Unanswered</td>\n",
       "      <td>Unanswered</td>\n",
       "      <td>NaN</td>\n",
       "      <td>89037.31</td>\n",
       "      <td>12/28/2020</td>\n",
       "    </tr>\n",
       "  </tbody>\n",
       "</table>\n",
       "</div>"
      ],
      "text/plain": [
       "   LoanNumber DateApproved  SBAOfficeCode ProcessingMethod  \\\n",
       "0  6214548307   01/26/2021            304              PPS   \n",
       "1  3199818509   02/23/2021            304              PPS   \n",
       "2  5012337108   04/13/2020            304              PPP   \n",
       "3  5288047410   05/12/2020            304              PPP   \n",
       "4  1687107207   04/15/2020            304              PPP   \n",
       "\n",
       "                                  BorrowerName           BorrowerAddress  \\\n",
       "0              BEDFORD FAMILY URGENT CARE INC.         1368 American Way   \n",
       "1                WHITE ELECTRICAL SERVICES LLC             2431 Bluff Rd   \n",
       "2  SOUTH BOSTON HARDWARE & POWER EQUIPMENT INC          307 Broad Street   \n",
       "3                     COMPLETE CONTRACTING LLC                 PO Box 39   \n",
       "4                   NORTON TRACT & ROLLER, INC  1509 MAIN AVE PO Box 566   \n",
       "\n",
       "   BorrowerCity BorrowerState BorrowerZip LoanStatusDate    LoanStatus  Term  \\\n",
       "0       Bedford            VA  24523-2940     09/17/2021  Paid in Full    60   \n",
       "1       Roanoke            VA  24014-3903            NaN   Exemption 4    60   \n",
       "2  SOUTH BOSTON            VA  24592-4611     02/20/2021  Paid in Full    24   \n",
       "3    Sutherland            VA       23885     06/17/2021  Paid in Full    24   \n",
       "4        NORTON            VA  24273-2209     01/07/2021  Paid in Full    24   \n",
       "\n",
       "   SBAGuarantyPercentage  InitialApprovalAmount  CurrentApprovalAmount  \\\n",
       "0                    100               88459.95               88459.95   \n",
       "1                    100               88453.30               88453.30   \n",
       "2                    100               88445.58               88445.58   \n",
       "3                    100               88445.00               88445.00   \n",
       "4                    100               88437.90               88437.90   \n",
       "\n",
       "   UndisbursedAmount FranchiseName  ServicingLenderLocationID  \\\n",
       "0                0.0           NaN                     447640   \n",
       "1                0.0           NaN                      73215   \n",
       "2                0.0           NaN                      73481   \n",
       "3                0.0           NaN                     225134   \n",
       "4                0.0           NaN                     123348   \n",
       "\n",
       "                           ServicingLenderName ServicingLenderAddress  \\\n",
       "0                                  Select Bank       211 Gristmill Dr   \n",
       "1     American National Bank and Trust Company            628 Main St   \n",
       "2                     Benchmark Community Bank         204 S Broad St   \n",
       "3  Truist Bank d/b/a Branch Banking & Trust Co         214 N Tryon St   \n",
       "4                       New Peoples Bank, Inc.         53 Commerce Dr   \n",
       "\n",
       "  ServicingLenderCity ServicingLenderState ServicingLenderZip  \\\n",
       "0              FOREST                   VA         24551-2605   \n",
       "1            DANVILLE                   VA         24541-1320   \n",
       "2           KENBRIDGE                   VA              23944   \n",
       "3           CHARLOTTE                   NC         28202-1078   \n",
       "4             HONAKER                   VA              24260   \n",
       "\n",
       "  RuralUrbanIndicator HubzoneIndicator LMIIndicator  \\\n",
       "0                   R                Y            N   \n",
       "1                   U                N            N   \n",
       "2                   R                Y            N   \n",
       "3                   R                N            N   \n",
       "4                   U                N            Y   \n",
       "\n",
       "              BusinessAgeDescription   ProjectCity ProjectCountyName  \\\n",
       "0  Existing or more than 2 years old       Bedford           BEDFORD   \n",
       "1  Existing or more than 2 years old       Roanoke           ROANOKE   \n",
       "2  Existing or more than 2 years old  SOUTH BOSTON           HALIFAX   \n",
       "3  Existing or more than 2 years old    Sutherland         DINWIDDIE   \n",
       "4  Existing or more than 2 years old        NORTON       NORTON CITY   \n",
       "\n",
       "  ProjectState  ProjectZip     CD  JobsReported  NAICSCode        Race  \\\n",
       "0           VA  24523-2940  VA-05           7.0   621111.0  Unanswered   \n",
       "1           VA  24014-3903  VA-06          10.0   238210.0  Unanswered   \n",
       "2           VA  24592-4611  VA-05          13.0   444130.0  Unanswered   \n",
       "3           VA  23885-0001  VA-04          11.0   531110.0  Unanswered   \n",
       "4           VA  24273-2209  VA-09          16.0   811310.0  Unanswered   \n",
       "\n",
       "           Ethnicity  UTILITIES_PROCEED  PAYROLL_PROCEED  \\\n",
       "0  Unknown/NotStated                NaN         88459.95   \n",
       "1  Unknown/NotStated                NaN         88453.30   \n",
       "2  Unknown/NotStated           11055.69         66334.20   \n",
       "3  Unknown/NotStated                NaN         88445.00   \n",
       "4  Unknown/NotStated                NaN         88437.90   \n",
       "\n",
       "   MORTGAGE_INTEREST_PROCEED  RENT_PROCEED  REFINANCE_EIDL_PROCEED  \\\n",
       "0                        NaN           NaN                     NaN   \n",
       "1                        NaN           NaN                     NaN   \n",
       "2                   11055.69           NaN                     NaN   \n",
       "3                        NaN           NaN                     NaN   \n",
       "4                        NaN           NaN                     NaN   \n",
       "\n",
       "   HEALTH_CARE_PROCEED  DEBT_INTEREST_PROCEED  \\\n",
       "0                  NaN                    NaN   \n",
       "1                  NaN                    NaN   \n",
       "2                  NaN                    NaN   \n",
       "3                  NaN                    NaN   \n",
       "4                  NaN                    NaN   \n",
       "\n",
       "                      BusinessType  OriginatingLenderLocationID  \\\n",
       "0         Subchapter S Corporation                       447640   \n",
       "1  Limited  Liability Company(LLC)                        73215   \n",
       "2                      Corporation                        73481   \n",
       "3  Limited  Liability Company(LLC)                       225134   \n",
       "4                      Corporation                       123348   \n",
       "\n",
       "                             OriginatingLender OriginatingLenderCity  \\\n",
       "0                                  Select Bank                FOREST   \n",
       "1     American National Bank and Trust Company              DANVILLE   \n",
       "2                     Benchmark Community Bank             KENBRIDGE   \n",
       "3  Truist Bank d/b/a Branch Banking & Trust Co             CHARLOTTE   \n",
       "4                       New Peoples Bank, Inc.               HONAKER   \n",
       "\n",
       "  OriginatingLenderState      Gender     Veteran NonProfit  ForgivenessAmount  \\\n",
       "0                     VA  Unanswered  Unanswered       NaN           88898.61   \n",
       "1                     VA  Unanswered  Unanswered       NaN           89151.10   \n",
       "2                     VA  Unanswered  Unanswered       NaN           89094.99   \n",
       "3                     NC  Unanswered  Unanswered       NaN           89356.47   \n",
       "4                     VA  Unanswered  Unanswered       NaN           89037.31   \n",
       "\n",
       "  ForgivenessDate  \n",
       "0      08/06/2021  \n",
       "1      12/07/2021  \n",
       "2      01/14/2021  \n",
       "3      05/25/2021  \n",
       "4      12/28/2020  "
      ]
     },
     "execution_count": 3,
     "metadata": {},
     "output_type": "execute_result"
    }
   ],
   "source": [
    "pd.set_option('display.max_columns', None)\n",
    "\n",
    "ppp_data.head()           "
   ]
  },
  {
   "cell_type": "markdown",
   "id": "3d41c09f",
   "metadata": {},
   "source": [
    "Drop unwanted columns"
   ]
  },
  {
   "cell_type": "code",
   "execution_count": 4,
   "id": "a010c2c6",
   "metadata": {},
   "outputs": [],
   "source": [
    "drop_columns = ['DateApproved','SBAOfficeCode',\n",
    "                    'ProcessingMethod','BorrowerName',\n",
    "                    'BorrowerAddress','BorrowerCity',\n",
    "                    'BorrowerState','BorrowerZip', \n",
    "                    'ServicingLenderLocationID', 'ServicingLenderName',\n",
    "                    'ServicingLenderAddress','ServicingLenderCity',\n",
    "                    'ServicingLenderState','ServicingLenderZip',\n",
    "                    'RuralUrbanIndicator','HubzoneIndicator',\n",
    "                    'LMIIndicator', 'ProjectCity',\n",
    "                    'ProjectCountyName','ProjectState',\n",
    "                    'ProjectState', 'ProjectZip','CD',\n",
    "                    'NAICSCode', 'Race','Ethnicity',\n",
    "                    'OriginatingLenderLocationID', 'OriginatingLender',\n",
    "              'OriginatingLenderCity', 'OriginatingLenderState',\n",
    "              'Gender', 'Veteran', 'LoanStatusDate', 'Term','SBAGuarantyPercentage',\n",
    "               'FranchiseName', 'UTILITIES_PROCEED','PAYROLL_PROCEED',\n",
    "                'MORTGAGE_INTEREST_PROCEED', 'RENT_PROCEED',  \n",
    "                  'REFINANCE_EIDL_PROCEED', 'HEALTH_CARE_PROCEED',\n",
    "               'DEBT_INTEREST_PROCEED','ForgivenessAmount', 'ForgivenessDate',\n",
    "                'UndisbursedAmount', 'BusinessAgeDescription','BusinessType']\n",
    "\n",
    "ppp_data.drop(columns=drop_columns, inplace=True)"
   ]
  },
  {
   "cell_type": "code",
   "execution_count": 5,
   "id": "b1c156c5",
   "metadata": {
    "scrolled": true
   },
   "outputs": [
    {
     "data": {
      "text/html": [
       "<div>\n",
       "<style scoped>\n",
       "    .dataframe tbody tr th:only-of-type {\n",
       "        vertical-align: middle;\n",
       "    }\n",
       "\n",
       "    .dataframe tbody tr th {\n",
       "        vertical-align: top;\n",
       "    }\n",
       "\n",
       "    .dataframe thead th {\n",
       "        text-align: right;\n",
       "    }\n",
       "</style>\n",
       "<table border=\"1\" class=\"dataframe\">\n",
       "  <thead>\n",
       "    <tr style=\"text-align: right;\">\n",
       "      <th></th>\n",
       "      <th>LoanNumber</th>\n",
       "      <th>LoanStatus</th>\n",
       "      <th>InitialApprovalAmount</th>\n",
       "      <th>CurrentApprovalAmount</th>\n",
       "      <th>JobsReported</th>\n",
       "      <th>NonProfit</th>\n",
       "    </tr>\n",
       "  </thead>\n",
       "  <tbody>\n",
       "    <tr>\n",
       "      <th>0</th>\n",
       "      <td>6214548307</td>\n",
       "      <td>Paid in Full</td>\n",
       "      <td>88459.95</td>\n",
       "      <td>88459.95</td>\n",
       "      <td>7.0</td>\n",
       "      <td>NaN</td>\n",
       "    </tr>\n",
       "    <tr>\n",
       "      <th>1</th>\n",
       "      <td>3199818509</td>\n",
       "      <td>Exemption 4</td>\n",
       "      <td>88453.30</td>\n",
       "      <td>88453.30</td>\n",
       "      <td>10.0</td>\n",
       "      <td>NaN</td>\n",
       "    </tr>\n",
       "    <tr>\n",
       "      <th>2</th>\n",
       "      <td>5012337108</td>\n",
       "      <td>Paid in Full</td>\n",
       "      <td>88445.58</td>\n",
       "      <td>88445.58</td>\n",
       "      <td>13.0</td>\n",
       "      <td>NaN</td>\n",
       "    </tr>\n",
       "    <tr>\n",
       "      <th>3</th>\n",
       "      <td>5288047410</td>\n",
       "      <td>Paid in Full</td>\n",
       "      <td>88445.00</td>\n",
       "      <td>88445.00</td>\n",
       "      <td>11.0</td>\n",
       "      <td>NaN</td>\n",
       "    </tr>\n",
       "    <tr>\n",
       "      <th>4</th>\n",
       "      <td>1687107207</td>\n",
       "      <td>Paid in Full</td>\n",
       "      <td>88437.90</td>\n",
       "      <td>88437.90</td>\n",
       "      <td>16.0</td>\n",
       "      <td>NaN</td>\n",
       "    </tr>\n",
       "  </tbody>\n",
       "</table>\n",
       "</div>"
      ],
      "text/plain": [
       "   LoanNumber    LoanStatus  InitialApprovalAmount  CurrentApprovalAmount  \\\n",
       "0  6214548307  Paid in Full               88459.95               88459.95   \n",
       "1  3199818509   Exemption 4               88453.30               88453.30   \n",
       "2  5012337108  Paid in Full               88445.58               88445.58   \n",
       "3  5288047410  Paid in Full               88445.00               88445.00   \n",
       "4  1687107207  Paid in Full               88437.90               88437.90   \n",
       "\n",
       "   JobsReported NonProfit  \n",
       "0           7.0       NaN  \n",
       "1          10.0       NaN  \n",
       "2          13.0       NaN  \n",
       "3          11.0       NaN  \n",
       "4          16.0       NaN  "
      ]
     },
     "execution_count": 5,
     "metadata": {},
     "output_type": "execute_result"
    }
   ],
   "source": [
    "ppp_data.head()"
   ]
  },
  {
   "cell_type": "code",
   "execution_count": 6,
   "id": "8e3f0bdb",
   "metadata": {},
   "outputs": [
    {
     "data": {
      "text/plain": [
       "(601263, 6)"
      ]
     },
     "execution_count": 6,
     "metadata": {},
     "output_type": "execute_result"
    }
   ],
   "source": [
    "ppp_data.shape"
   ]
  },
  {
   "cell_type": "markdown",
   "id": "aca9a73b",
   "metadata": {},
   "source": [
    "There are 601,263 rows and 6 columns/categories."
   ]
  },
  {
   "cell_type": "code",
   "execution_count": null,
   "id": "409bb51b",
   "metadata": {
    "scrolled": true
   },
   "outputs": [],
   "source": [
    "ppp_data.index.values"
   ]
  },
  {
   "cell_type": "code",
   "execution_count": 7,
   "id": "2fc5a2fd",
   "metadata": {},
   "outputs": [
    {
     "data": {
      "text/html": [
       "<div>\n",
       "<style scoped>\n",
       "    .dataframe tbody tr th:only-of-type {\n",
       "        vertical-align: middle;\n",
       "    }\n",
       "\n",
       "    .dataframe tbody tr th {\n",
       "        vertical-align: top;\n",
       "    }\n",
       "\n",
       "    .dataframe thead th {\n",
       "        text-align: right;\n",
       "    }\n",
       "</style>\n",
       "<table border=\"1\" class=\"dataframe\">\n",
       "  <thead>\n",
       "    <tr style=\"text-align: right;\">\n",
       "      <th></th>\n",
       "      <th>LoanNumber</th>\n",
       "      <th>InitialApprovalAmount</th>\n",
       "      <th>CurrentApprovalAmount</th>\n",
       "      <th>JobsReported</th>\n",
       "    </tr>\n",
       "  </thead>\n",
       "  <tbody>\n",
       "    <tr>\n",
       "      <th>count</th>\n",
       "      <td>6.012630e+05</td>\n",
       "      <td>6.012630e+05</td>\n",
       "      <td>601263.000000</td>\n",
       "      <td>601262.000000</td>\n",
       "    </tr>\n",
       "    <tr>\n",
       "      <th>mean</th>\n",
       "      <td>5.490254e+09</td>\n",
       "      <td>2.758323e+04</td>\n",
       "      <td>27381.199575</td>\n",
       "      <td>4.138129</td>\n",
       "    </tr>\n",
       "    <tr>\n",
       "      <th>std</th>\n",
       "      <td>2.557651e+09</td>\n",
       "      <td>3.673778e+04</td>\n",
       "      <td>28421.026002</td>\n",
       "      <td>8.166428</td>\n",
       "    </tr>\n",
       "    <tr>\n",
       "      <th>min</th>\n",
       "      <td>1.000027e+09</td>\n",
       "      <td>1.000000e+00</td>\n",
       "      <td>1.800000</td>\n",
       "      <td>0.000000</td>\n",
       "    </tr>\n",
       "    <tr>\n",
       "      <th>25%</th>\n",
       "      <td>3.319608e+09</td>\n",
       "      <td>8.607160e+03</td>\n",
       "      <td>8617.000000</td>\n",
       "      <td>1.000000</td>\n",
       "    </tr>\n",
       "    <tr>\n",
       "      <th>50%</th>\n",
       "      <td>5.470039e+09</td>\n",
       "      <td>1.940000e+04</td>\n",
       "      <td>19442.000000</td>\n",
       "      <td>2.000000</td>\n",
       "    </tr>\n",
       "    <tr>\n",
       "      <th>75%</th>\n",
       "      <td>7.654333e+09</td>\n",
       "      <td>3.365928e+04</td>\n",
       "      <td>33600.000000</td>\n",
       "      <td>5.000000</td>\n",
       "    </tr>\n",
       "    <tr>\n",
       "      <th>max</th>\n",
       "      <td>9.999009e+09</td>\n",
       "      <td>9.375000e+06</td>\n",
       "      <td>149999.990000</td>\n",
       "      <td>500.000000</td>\n",
       "    </tr>\n",
       "  </tbody>\n",
       "</table>\n",
       "</div>"
      ],
      "text/plain": [
       "         LoanNumber  InitialApprovalAmount  CurrentApprovalAmount  \\\n",
       "count  6.012630e+05           6.012630e+05          601263.000000   \n",
       "mean   5.490254e+09           2.758323e+04           27381.199575   \n",
       "std    2.557651e+09           3.673778e+04           28421.026002   \n",
       "min    1.000027e+09           1.000000e+00               1.800000   \n",
       "25%    3.319608e+09           8.607160e+03            8617.000000   \n",
       "50%    5.470039e+09           1.940000e+04           19442.000000   \n",
       "75%    7.654333e+09           3.365928e+04           33600.000000   \n",
       "max    9.999009e+09           9.375000e+06          149999.990000   \n",
       "\n",
       "        JobsReported  \n",
       "count  601262.000000  \n",
       "mean        4.138129  \n",
       "std         8.166428  \n",
       "min         0.000000  \n",
       "25%         1.000000  \n",
       "50%         2.000000  \n",
       "75%         5.000000  \n",
       "max       500.000000  "
      ]
     },
     "execution_count": 7,
     "metadata": {},
     "output_type": "execute_result"
    }
   ],
   "source": [
    "ppp_data.describe()\n"
   ]
  },
  {
   "cell_type": "code",
   "execution_count": 8,
   "id": "9acac46f",
   "metadata": {},
   "outputs": [
    {
     "name": "stdout",
     "output_type": "stream",
     "text": [
      "<class 'pandas.core.frame.DataFrame'>\n",
      "RangeIndex: 601263 entries, 0 to 601262\n",
      "Data columns (total 6 columns):\n",
      " #   Column                 Non-Null Count   Dtype  \n",
      "---  ------                 --------------   -----  \n",
      " 0   LoanNumber             601263 non-null  int64  \n",
      " 1   LoanStatus             601263 non-null  object \n",
      " 2   InitialApprovalAmount  601263 non-null  float64\n",
      " 3   CurrentApprovalAmount  601263 non-null  float64\n",
      " 4   JobsReported           601262 non-null  float64\n",
      " 5   NonProfit              17919 non-null   object \n",
      "dtypes: float64(3), int64(1), object(2)\n",
      "memory usage: 27.5+ MB\n"
     ]
    }
   ],
   "source": [
    "ppp_data.info()\n"
   ]
  },
  {
   "cell_type": "markdown",
   "id": "5f4405cb",
   "metadata": {},
   "source": [
    "The following issues should be looked into or corrected:\n",
    "\n",
    "* See if initial approval amount and curent approval amount are the same\n",
    "* Jobs reported should be an integer which can't be changed until null value is resolved. .\n",
    "* See what values are for NonProfit column due to several null values\n",
    "* Finalize what columns to keep."
   ]
  },
  {
   "cell_type": "code",
   "execution_count": 9,
   "id": "2f870a4e",
   "metadata": {
    "scrolled": true
   },
   "outputs": [
    {
     "data": {
      "text/plain": [
       "False"
      ]
     },
     "execution_count": 9,
     "metadata": {},
     "output_type": "execute_result"
    }
   ],
   "source": [
    "#See if Initial Approval Amount are the same as Current Approval Amounts\n",
    "ppp_data['InitialApprovalAmount'].equals(ppp_data['CurrentApprovalAmount'])"
   ]
  },
  {
   "cell_type": "markdown",
   "id": "6370fbdd",
   "metadata": {},
   "source": [
    "This means there were some changes in initial approval amounts and current approval amounts."
   ]
  },
  {
   "cell_type": "code",
   "execution_count": 10,
   "id": "b130f589",
   "metadata": {},
   "outputs": [
    {
     "data": {
      "text/html": [
       "<div>\n",
       "<style scoped>\n",
       "    .dataframe tbody tr th:only-of-type {\n",
       "        vertical-align: middle;\n",
       "    }\n",
       "\n",
       "    .dataframe tbody tr th {\n",
       "        vertical-align: top;\n",
       "    }\n",
       "\n",
       "    .dataframe thead th {\n",
       "        text-align: right;\n",
       "    }\n",
       "</style>\n",
       "<table border=\"1\" class=\"dataframe\">\n",
       "  <thead>\n",
       "    <tr style=\"text-align: right;\">\n",
       "      <th></th>\n",
       "      <th>self</th>\n",
       "      <th>other</th>\n",
       "    </tr>\n",
       "  </thead>\n",
       "  <tbody>\n",
       "    <tr>\n",
       "      <th>14</th>\n",
       "      <td>91500.00</td>\n",
       "      <td>88400.00</td>\n",
       "    </tr>\n",
       "    <tr>\n",
       "      <th>55</th>\n",
       "      <td>88000.00</td>\n",
       "      <td>88300.00</td>\n",
       "    </tr>\n",
       "    <tr>\n",
       "      <th>63</th>\n",
       "      <td>88272.00</td>\n",
       "      <td>88272.16</td>\n",
       "    </tr>\n",
       "    <tr>\n",
       "      <th>81</th>\n",
       "      <td>67400.00</td>\n",
       "      <td>88200.00</td>\n",
       "    </tr>\n",
       "    <tr>\n",
       "      <th>82</th>\n",
       "      <td>88300.00</td>\n",
       "      <td>88200.00</td>\n",
       "    </tr>\n",
       "    <tr>\n",
       "      <th>...</th>\n",
       "      <td>...</td>\n",
       "      <td>...</td>\n",
       "    </tr>\n",
       "    <tr>\n",
       "      <th>601035</th>\n",
       "      <td>2072.00</td>\n",
       "      <td>1072.00</td>\n",
       "    </tr>\n",
       "    <tr>\n",
       "      <th>601043</th>\n",
       "      <td>917.29</td>\n",
       "      <td>1053.12</td>\n",
       "    </tr>\n",
       "    <tr>\n",
       "      <th>601182</th>\n",
       "      <td>10300.00</td>\n",
       "      <td>700.00</td>\n",
       "    </tr>\n",
       "    <tr>\n",
       "      <th>601183</th>\n",
       "      <td>40000.00</td>\n",
       "      <td>700.00</td>\n",
       "    </tr>\n",
       "    <tr>\n",
       "      <th>601254</th>\n",
       "      <td>11421.45</td>\n",
       "      <td>330.00</td>\n",
       "    </tr>\n",
       "  </tbody>\n",
       "</table>\n",
       "<p>17276 rows × 2 columns</p>\n",
       "</div>"
      ],
      "text/plain": [
       "            self     other\n",
       "14      91500.00  88400.00\n",
       "55      88000.00  88300.00\n",
       "63      88272.00  88272.16\n",
       "81      67400.00  88200.00\n",
       "82      88300.00  88200.00\n",
       "...          ...       ...\n",
       "601035   2072.00   1072.00\n",
       "601043    917.29   1053.12\n",
       "601182  10300.00    700.00\n",
       "601183  40000.00    700.00\n",
       "601254  11421.45    330.00\n",
       "\n",
       "[17276 rows x 2 columns]"
      ]
     },
     "execution_count": 10,
     "metadata": {},
     "output_type": "execute_result"
    }
   ],
   "source": [
    "ppp_data.InitialApprovalAmount.compare(ppp_data.CurrentApprovalAmount)"
   ]
  },
  {
   "cell_type": "markdown",
   "id": "b7b55270",
   "metadata": {},
   "source": [
    "There appears to be changes with 17,276 of the rows. This is a small amount compared to the data set as a whole. Although this would be interesting to look at in further detail, we're going to choose to look at the current approval amounts with, the assumption that the entries are accurate."
   ]
  },
  {
   "cell_type": "markdown",
   "id": "a283bde2",
   "metadata": {},
   "source": [
    "Now to remove the null value from JobsReported"
   ]
  },
  {
   "cell_type": "code",
   "execution_count": 11,
   "id": "89d14339",
   "metadata": {
    "scrolled": true
   },
   "outputs": [],
   "source": [
    "#Drop row with null from JobsReported\n",
    "ppp_data.dropna(subset=['JobsReported'], inplace=True)"
   ]
  },
  {
   "cell_type": "code",
   "execution_count": 13,
   "id": "0225ea07",
   "metadata": {},
   "outputs": [
    {
     "data": {
      "text/plain": [
       "(601262, 6)"
      ]
     },
     "execution_count": 13,
     "metadata": {},
     "output_type": "execute_result"
    }
   ],
   "source": [
    "#check that null value was dropped\n",
    "ppp_data.shape"
   ]
  },
  {
   "cell_type": "markdown",
   "id": "9a73a598",
   "metadata": {},
   "source": [
    "Now, to see what values are in the NonProfit column"
   ]
  },
  {
   "cell_type": "code",
   "execution_count": 14,
   "id": "ee48d9f6",
   "metadata": {},
   "outputs": [
    {
     "data": {
      "text/plain": [
       "Y    17919\n",
       "Name: NonProfit, dtype: int64"
      ]
     },
     "execution_count": 14,
     "metadata": {},
     "output_type": "execute_result"
    }
   ],
   "source": [
    "ppp_data['NonProfit'].value_counts()"
   ]
  },
  {
   "cell_type": "markdown",
   "id": "de5e4c11",
   "metadata": {},
   "source": [
    "The only value outside of the nulls is 'Y' for yes so, we'll assume all nulls mean no and change the values to 'N'."
   ]
  },
  {
   "cell_type": "code",
   "execution_count": 15,
   "id": "263807af",
   "metadata": {},
   "outputs": [
    {
     "name": "stdout",
     "output_type": "stream",
     "text": [
      "<class 'pandas.core.frame.DataFrame'>\n",
      "Int64Index: 601262 entries, 0 to 601262\n",
      "Data columns (total 6 columns):\n",
      " #   Column                 Non-Null Count   Dtype  \n",
      "---  ------                 --------------   -----  \n",
      " 0   LoanNumber             601262 non-null  int64  \n",
      " 1   LoanStatus             601262 non-null  object \n",
      " 2   InitialApprovalAmount  601262 non-null  float64\n",
      " 3   CurrentApprovalAmount  601262 non-null  float64\n",
      " 4   JobsReported           601262 non-null  float64\n",
      " 5   NonProfit              601262 non-null  object \n",
      "dtypes: float64(3), int64(1), object(2)\n",
      "memory usage: 32.1+ MB\n"
     ]
    }
   ],
   "source": [
    "# change NonProfit na values to 'N'\n",
    "ppp_data['NonProfit'] = ppp_data['NonProfit'].fillna('N')\n",
    "\n",
    "# check info\n",
    "ppp_data.info()"
   ]
  },
  {
   "cell_type": "markdown",
   "id": "2c9b4d1d",
   "metadata": {},
   "source": [
    "There are no longer any missing values in the data."
   ]
  },
  {
   "cell_type": "markdown",
   "id": "1286c797",
   "metadata": {},
   "source": [
    "Then lets change the loan number as the index."
   ]
  },
  {
   "cell_type": "code",
   "execution_count": 16,
   "id": "b297fb81",
   "metadata": {},
   "outputs": [
    {
     "data": {
      "text/html": [
       "<div>\n",
       "<style scoped>\n",
       "    .dataframe tbody tr th:only-of-type {\n",
       "        vertical-align: middle;\n",
       "    }\n",
       "\n",
       "    .dataframe tbody tr th {\n",
       "        vertical-align: top;\n",
       "    }\n",
       "\n",
       "    .dataframe thead th {\n",
       "        text-align: right;\n",
       "    }\n",
       "</style>\n",
       "<table border=\"1\" class=\"dataframe\">\n",
       "  <thead>\n",
       "    <tr style=\"text-align: right;\">\n",
       "      <th></th>\n",
       "      <th>LoanStatus</th>\n",
       "      <th>InitialApprovalAmount</th>\n",
       "      <th>CurrentApprovalAmount</th>\n",
       "      <th>JobsReported</th>\n",
       "      <th>NonProfit</th>\n",
       "    </tr>\n",
       "    <tr>\n",
       "      <th>LoanNumber</th>\n",
       "      <th></th>\n",
       "      <th></th>\n",
       "      <th></th>\n",
       "      <th></th>\n",
       "      <th></th>\n",
       "    </tr>\n",
       "  </thead>\n",
       "  <tbody>\n",
       "    <tr>\n",
       "      <th>6214548307</th>\n",
       "      <td>Paid in Full</td>\n",
       "      <td>88459.95</td>\n",
       "      <td>88459.95</td>\n",
       "      <td>7.0</td>\n",
       "      <td>N</td>\n",
       "    </tr>\n",
       "    <tr>\n",
       "      <th>3199818509</th>\n",
       "      <td>Exemption 4</td>\n",
       "      <td>88453.30</td>\n",
       "      <td>88453.30</td>\n",
       "      <td>10.0</td>\n",
       "      <td>N</td>\n",
       "    </tr>\n",
       "    <tr>\n",
       "      <th>5012337108</th>\n",
       "      <td>Paid in Full</td>\n",
       "      <td>88445.58</td>\n",
       "      <td>88445.58</td>\n",
       "      <td>13.0</td>\n",
       "      <td>N</td>\n",
       "    </tr>\n",
       "    <tr>\n",
       "      <th>5288047410</th>\n",
       "      <td>Paid in Full</td>\n",
       "      <td>88445.00</td>\n",
       "      <td>88445.00</td>\n",
       "      <td>11.0</td>\n",
       "      <td>N</td>\n",
       "    </tr>\n",
       "    <tr>\n",
       "      <th>1687107207</th>\n",
       "      <td>Paid in Full</td>\n",
       "      <td>88437.90</td>\n",
       "      <td>88437.90</td>\n",
       "      <td>16.0</td>\n",
       "      <td>N</td>\n",
       "    </tr>\n",
       "    <tr>\n",
       "      <th>...</th>\n",
       "      <td>...</td>\n",
       "      <td>...</td>\n",
       "      <td>...</td>\n",
       "      <td>...</td>\n",
       "      <td>...</td>\n",
       "    </tr>\n",
       "    <tr>\n",
       "      <th>9160347307</th>\n",
       "      <td>Paid in Full</td>\n",
       "      <td>260.00</td>\n",
       "      <td>260.00</td>\n",
       "      <td>1.0</td>\n",
       "      <td>N</td>\n",
       "    </tr>\n",
       "    <tr>\n",
       "      <th>8452318607</th>\n",
       "      <td>Exemption 4</td>\n",
       "      <td>256.45</td>\n",
       "      <td>256.45</td>\n",
       "      <td>2.0</td>\n",
       "      <td>N</td>\n",
       "    </tr>\n",
       "    <tr>\n",
       "      <th>5991058901</th>\n",
       "      <td>Exemption 4</td>\n",
       "      <td>250.00</td>\n",
       "      <td>250.00</td>\n",
       "      <td>1.0</td>\n",
       "      <td>N</td>\n",
       "    </tr>\n",
       "    <tr>\n",
       "      <th>6164058608</th>\n",
       "      <td>Paid in Full</td>\n",
       "      <td>250.00</td>\n",
       "      <td>250.00</td>\n",
       "      <td>1.0</td>\n",
       "      <td>N</td>\n",
       "    </tr>\n",
       "    <tr>\n",
       "      <th>5170998610</th>\n",
       "      <td>Paid in Full</td>\n",
       "      <td>236.02</td>\n",
       "      <td>236.02</td>\n",
       "      <td>1.0</td>\n",
       "      <td>N</td>\n",
       "    </tr>\n",
       "  </tbody>\n",
       "</table>\n",
       "<p>601262 rows × 5 columns</p>\n",
       "</div>"
      ],
      "text/plain": [
       "              LoanStatus  InitialApprovalAmount  CurrentApprovalAmount  \\\n",
       "LoanNumber                                                               \n",
       "6214548307  Paid in Full               88459.95               88459.95   \n",
       "3199818509   Exemption 4               88453.30               88453.30   \n",
       "5012337108  Paid in Full               88445.58               88445.58   \n",
       "5288047410  Paid in Full               88445.00               88445.00   \n",
       "1687107207  Paid in Full               88437.90               88437.90   \n",
       "...                  ...                    ...                    ...   \n",
       "9160347307  Paid in Full                 260.00                 260.00   \n",
       "8452318607   Exemption 4                 256.45                 256.45   \n",
       "5991058901   Exemption 4                 250.00                 250.00   \n",
       "6164058608  Paid in Full                 250.00                 250.00   \n",
       "5170998610  Paid in Full                 236.02                 236.02   \n",
       "\n",
       "            JobsReported NonProfit  \n",
       "LoanNumber                          \n",
       "6214548307           7.0         N  \n",
       "3199818509          10.0         N  \n",
       "5012337108          13.0         N  \n",
       "5288047410          11.0         N  \n",
       "1687107207          16.0         N  \n",
       "...                  ...       ...  \n",
       "9160347307           1.0         N  \n",
       "8452318607           2.0         N  \n",
       "5991058901           1.0         N  \n",
       "6164058608           1.0         N  \n",
       "5170998610           1.0         N  \n",
       "\n",
       "[601262 rows x 5 columns]"
      ]
     },
     "execution_count": 16,
     "metadata": {},
     "output_type": "execute_result"
    }
   ],
   "source": [
    "ppp_data.set_index('LoanNumber')"
   ]
  },
  {
   "cell_type": "markdown",
   "id": "dcc07613",
   "metadata": {},
   "source": [
    "Generate profile report"
   ]
  },
  {
   "cell_type": "code",
   "execution_count": 17,
   "id": "d5afcd6e",
   "metadata": {
    "scrolled": true
   },
   "outputs": [
    {
     "data": {
      "application/vnd.jupyter.widget-view+json": {
       "model_id": "cfb99d56e6464058a2ccb1066b389b36",
       "version_major": 2,
       "version_minor": 0
      },
      "text/plain": [
       "Summarize dataset:   0%|          | 0/21 [00:00<?, ?it/s]"
      ]
     },
     "metadata": {},
     "output_type": "display_data"
    },
    {
     "name": "stderr",
     "output_type": "stream",
     "text": [
      "C:\\Users\\NewUser\\anaconda3\\lib\\site-packages\\scipy\\stats\\stats.py:4594: RuntimeWarning: overflow encountered in longlong_scalars\n",
      "  (2 * xtie * ytie) / m + x0 * y0 / (9 * m * (size - 2)))\n"
     ]
    },
    {
     "data": {
      "application/vnd.jupyter.widget-view+json": {
       "model_id": "ebb399f6185a43afb7a137486b8e9633",
       "version_major": 2,
       "version_minor": 0
      },
      "text/plain": [
       "Generate report structure:   0%|          | 0/1 [00:00<?, ?it/s]"
      ]
     },
     "metadata": {},
     "output_type": "display_data"
    },
    {
     "data": {
      "application/vnd.jupyter.widget-view+json": {
       "model_id": "",
       "version_major": 2,
       "version_minor": 0
      },
      "text/plain": [
       "Render widgets:   0%|          | 0/1 [00:00<?, ?it/s]"
      ]
     },
     "metadata": {},
     "output_type": "display_data"
    },
    {
     "data": {
      "application/vnd.jupyter.widget-view+json": {
       "model_id": "9515e7213f3a44809d05bdd577275029",
       "version_major": 2,
       "version_minor": 0
      },
      "text/plain": [
       "VBox(children=(Tab(children=(Tab(children=(GridBox(children=(VBox(children=(GridspecLayout(children=(HTML(valu…"
      ]
     },
     "metadata": {},
     "output_type": "display_data"
    }
   ],
   "source": [
    "\n",
    "\n",
    "profile = ProfileReport(ppp_data)\n",
    "#profile.to_file(output_file='output.html')\n",
    "profile.to_widgets()"
   ]
  },
  {
   "cell_type": "markdown",
   "id": "e1c22be3",
   "metadata": {},
   "source": [
    "After reviewing the report, I saw that there were 25 cases with a loan status of active undisbursed. If they've been approved, they'll be kept."
   ]
  },
  {
   "cell_type": "code",
   "execution_count": 18,
   "id": "30477ce6",
   "metadata": {},
   "outputs": [
    {
     "data": {
      "text/plain": [
       "(25, 6)"
      ]
     },
     "execution_count": 18,
     "metadata": {},
     "output_type": "execute_result"
    }
   ],
   "source": [
    "#Filter out businesses that have active cases of undisbursed amounts\n",
    "ls_data = ppp_data[(ppp_data['LoanStatus'] == 'Active Un-Disbursed')]\n",
    "ls_data.shape"
   ]
  },
  {
   "cell_type": "code",
   "execution_count": 19,
   "id": "526dc270",
   "metadata": {
    "scrolled": true
   },
   "outputs": [
    {
     "data": {
      "text/html": [
       "<div>\n",
       "<style scoped>\n",
       "    .dataframe tbody tr th:only-of-type {\n",
       "        vertical-align: middle;\n",
       "    }\n",
       "\n",
       "    .dataframe tbody tr th {\n",
       "        vertical-align: top;\n",
       "    }\n",
       "\n",
       "    .dataframe thead th {\n",
       "        text-align: right;\n",
       "    }\n",
       "</style>\n",
       "<table border=\"1\" class=\"dataframe\">\n",
       "  <thead>\n",
       "    <tr style=\"text-align: right;\">\n",
       "      <th></th>\n",
       "      <th>LoanNumber</th>\n",
       "      <th>LoanStatus</th>\n",
       "      <th>InitialApprovalAmount</th>\n",
       "      <th>CurrentApprovalAmount</th>\n",
       "      <th>JobsReported</th>\n",
       "      <th>NonProfit</th>\n",
       "    </tr>\n",
       "  </thead>\n",
       "  <tbody>\n",
       "    <tr>\n",
       "      <th>13636</th>\n",
       "      <td>8397908603</td>\n",
       "      <td>Active Un-Disbursed</td>\n",
       "      <td>59935.00</td>\n",
       "      <td>59935.00</td>\n",
       "      <td>29.0</td>\n",
       "      <td>Y</td>\n",
       "    </tr>\n",
       "    <tr>\n",
       "      <th>14674</th>\n",
       "      <td>5677968404</td>\n",
       "      <td>Active Un-Disbursed</td>\n",
       "      <td>58135.00</td>\n",
       "      <td>58135.00</td>\n",
       "      <td>7.0</td>\n",
       "      <td>N</td>\n",
       "    </tr>\n",
       "    <tr>\n",
       "      <th>17351</th>\n",
       "      <td>1877818510</td>\n",
       "      <td>Active Un-Disbursed</td>\n",
       "      <td>54112.00</td>\n",
       "      <td>54112.00</td>\n",
       "      <td>8.0</td>\n",
       "      <td>N</td>\n",
       "    </tr>\n",
       "    <tr>\n",
       "      <th>35415</th>\n",
       "      <td>4988738702</td>\n",
       "      <td>Active Un-Disbursed</td>\n",
       "      <td>35000.00</td>\n",
       "      <td>35000.00</td>\n",
       "      <td>11.0</td>\n",
       "      <td>N</td>\n",
       "    </tr>\n",
       "    <tr>\n",
       "      <th>63059</th>\n",
       "      <td>4197498303</td>\n",
       "      <td>Active Un-Disbursed</td>\n",
       "      <td>20833.00</td>\n",
       "      <td>20833.00</td>\n",
       "      <td>1.0</td>\n",
       "      <td>N</td>\n",
       "    </tr>\n",
       "    <tr>\n",
       "      <th>70779</th>\n",
       "      <td>2563708710</td>\n",
       "      <td>Active Un-Disbursed</td>\n",
       "      <td>20832.00</td>\n",
       "      <td>20832.00</td>\n",
       "      <td>1.0</td>\n",
       "      <td>N</td>\n",
       "    </tr>\n",
       "    <tr>\n",
       "      <th>71038</th>\n",
       "      <td>3495048704</td>\n",
       "      <td>Active Un-Disbursed</td>\n",
       "      <td>20832.00</td>\n",
       "      <td>20832.00</td>\n",
       "      <td>1.0</td>\n",
       "      <td>N</td>\n",
       "    </tr>\n",
       "    <tr>\n",
       "      <th>74468</th>\n",
       "      <td>9811528608</td>\n",
       "      <td>Active Un-Disbursed</td>\n",
       "      <td>20832.00</td>\n",
       "      <td>20832.00</td>\n",
       "      <td>1.0</td>\n",
       "      <td>N</td>\n",
       "    </tr>\n",
       "    <tr>\n",
       "      <th>86685</th>\n",
       "      <td>9440938602</td>\n",
       "      <td>Active Un-Disbursed</td>\n",
       "      <td>19097.00</td>\n",
       "      <td>19097.00</td>\n",
       "      <td>1.0</td>\n",
       "      <td>N</td>\n",
       "    </tr>\n",
       "    <tr>\n",
       "      <th>89695</th>\n",
       "      <td>1453537204</td>\n",
       "      <td>Active Un-Disbursed</td>\n",
       "      <td>18295.00</td>\n",
       "      <td>18295.00</td>\n",
       "      <td>2.0</td>\n",
       "      <td>Y</td>\n",
       "    </tr>\n",
       "    <tr>\n",
       "      <th>95467</th>\n",
       "      <td>8239389004</td>\n",
       "      <td>Active Un-Disbursed</td>\n",
       "      <td>127.00</td>\n",
       "      <td>16707.00</td>\n",
       "      <td>1.0</td>\n",
       "      <td>N</td>\n",
       "    </tr>\n",
       "    <tr>\n",
       "      <th>113748</th>\n",
       "      <td>9804418405</td>\n",
       "      <td>Active Un-Disbursed</td>\n",
       "      <td>12500.00</td>\n",
       "      <td>12500.00</td>\n",
       "      <td>2.0</td>\n",
       "      <td>N</td>\n",
       "    </tr>\n",
       "    <tr>\n",
       "      <th>126625</th>\n",
       "      <td>3287718503</td>\n",
       "      <td>Active Un-Disbursed</td>\n",
       "      <td>9982.00</td>\n",
       "      <td>9982.00</td>\n",
       "      <td>1.0</td>\n",
       "      <td>N</td>\n",
       "    </tr>\n",
       "    <tr>\n",
       "      <th>130749</th>\n",
       "      <td>7747858608</td>\n",
       "      <td>Active Un-Disbursed</td>\n",
       "      <td>9173.75</td>\n",
       "      <td>9173.75</td>\n",
       "      <td>1.0</td>\n",
       "      <td>N</td>\n",
       "    </tr>\n",
       "    <tr>\n",
       "      <th>142062</th>\n",
       "      <td>9555447808</td>\n",
       "      <td>Active Un-Disbursed</td>\n",
       "      <td>7300.00</td>\n",
       "      <td>7300.00</td>\n",
       "      <td>1.0</td>\n",
       "      <td>N</td>\n",
       "    </tr>\n",
       "    <tr>\n",
       "      <th>147361</th>\n",
       "      <td>8124787210</td>\n",
       "      <td>Active Un-Disbursed</td>\n",
       "      <td>6400.00</td>\n",
       "      <td>6400.00</td>\n",
       "      <td>1.0</td>\n",
       "      <td>N</td>\n",
       "    </tr>\n",
       "    <tr>\n",
       "      <th>168690</th>\n",
       "      <td>9809878402</td>\n",
       "      <td>Active Un-Disbursed</td>\n",
       "      <td>3280.00</td>\n",
       "      <td>3280.00</td>\n",
       "      <td>6.0</td>\n",
       "      <td>N</td>\n",
       "    </tr>\n",
       "    <tr>\n",
       "      <th>181677</th>\n",
       "      <td>1118348706</td>\n",
       "      <td>Active Un-Disbursed</td>\n",
       "      <td>992.00</td>\n",
       "      <td>992.00</td>\n",
       "      <td>1.0</td>\n",
       "      <td>N</td>\n",
       "    </tr>\n",
       "    <tr>\n",
       "      <th>183006</th>\n",
       "      <td>1353718601</td>\n",
       "      <td>Active Un-Disbursed</td>\n",
       "      <td>402.00</td>\n",
       "      <td>402.00</td>\n",
       "      <td>1.0</td>\n",
       "      <td>N</td>\n",
       "    </tr>\n",
       "    <tr>\n",
       "      <th>290004</th>\n",
       "      <td>9025308604</td>\n",
       "      <td>Active Un-Disbursed</td>\n",
       "      <td>20832.00</td>\n",
       "      <td>20832.00</td>\n",
       "      <td>1.0</td>\n",
       "      <td>N</td>\n",
       "    </tr>\n",
       "    <tr>\n",
       "      <th>290273</th>\n",
       "      <td>9611998604</td>\n",
       "      <td>Active Un-Disbursed</td>\n",
       "      <td>20832.00</td>\n",
       "      <td>20832.00</td>\n",
       "      <td>1.0</td>\n",
       "      <td>N</td>\n",
       "    </tr>\n",
       "    <tr>\n",
       "      <th>315747</th>\n",
       "      <td>3451738708</td>\n",
       "      <td>Active Un-Disbursed</td>\n",
       "      <td>14165.00</td>\n",
       "      <td>14165.00</td>\n",
       "      <td>1.0</td>\n",
       "      <td>N</td>\n",
       "    </tr>\n",
       "    <tr>\n",
       "      <th>448074</th>\n",
       "      <td>1459138700</td>\n",
       "      <td>Active Un-Disbursed</td>\n",
       "      <td>20832.00</td>\n",
       "      <td>20832.00</td>\n",
       "      <td>1.0</td>\n",
       "      <td>N</td>\n",
       "    </tr>\n",
       "    <tr>\n",
       "      <th>448225</th>\n",
       "      <td>1620538710</td>\n",
       "      <td>Active Un-Disbursed</td>\n",
       "      <td>20832.00</td>\n",
       "      <td>20832.00</td>\n",
       "      <td>1.0</td>\n",
       "      <td>N</td>\n",
       "    </tr>\n",
       "    <tr>\n",
       "      <th>448545</th>\n",
       "      <td>2106028701</td>\n",
       "      <td>Active Un-Disbursed</td>\n",
       "      <td>20832.00</td>\n",
       "      <td>20832.00</td>\n",
       "      <td>1.0</td>\n",
       "      <td>N</td>\n",
       "    </tr>\n",
       "  </tbody>\n",
       "</table>\n",
       "</div>"
      ],
      "text/plain": [
       "        LoanNumber           LoanStatus  InitialApprovalAmount  \\\n",
       "13636   8397908603  Active Un-Disbursed               59935.00   \n",
       "14674   5677968404  Active Un-Disbursed               58135.00   \n",
       "17351   1877818510  Active Un-Disbursed               54112.00   \n",
       "35415   4988738702  Active Un-Disbursed               35000.00   \n",
       "63059   4197498303  Active Un-Disbursed               20833.00   \n",
       "70779   2563708710  Active Un-Disbursed               20832.00   \n",
       "71038   3495048704  Active Un-Disbursed               20832.00   \n",
       "74468   9811528608  Active Un-Disbursed               20832.00   \n",
       "86685   9440938602  Active Un-Disbursed               19097.00   \n",
       "89695   1453537204  Active Un-Disbursed               18295.00   \n",
       "95467   8239389004  Active Un-Disbursed                 127.00   \n",
       "113748  9804418405  Active Un-Disbursed               12500.00   \n",
       "126625  3287718503  Active Un-Disbursed                9982.00   \n",
       "130749  7747858608  Active Un-Disbursed                9173.75   \n",
       "142062  9555447808  Active Un-Disbursed                7300.00   \n",
       "147361  8124787210  Active Un-Disbursed                6400.00   \n",
       "168690  9809878402  Active Un-Disbursed                3280.00   \n",
       "181677  1118348706  Active Un-Disbursed                 992.00   \n",
       "183006  1353718601  Active Un-Disbursed                 402.00   \n",
       "290004  9025308604  Active Un-Disbursed               20832.00   \n",
       "290273  9611998604  Active Un-Disbursed               20832.00   \n",
       "315747  3451738708  Active Un-Disbursed               14165.00   \n",
       "448074  1459138700  Active Un-Disbursed               20832.00   \n",
       "448225  1620538710  Active Un-Disbursed               20832.00   \n",
       "448545  2106028701  Active Un-Disbursed               20832.00   \n",
       "\n",
       "        CurrentApprovalAmount  JobsReported NonProfit  \n",
       "13636                59935.00          29.0         Y  \n",
       "14674                58135.00           7.0         N  \n",
       "17351                54112.00           8.0         N  \n",
       "35415                35000.00          11.0         N  \n",
       "63059                20833.00           1.0         N  \n",
       "70779                20832.00           1.0         N  \n",
       "71038                20832.00           1.0         N  \n",
       "74468                20832.00           1.0         N  \n",
       "86685                19097.00           1.0         N  \n",
       "89695                18295.00           2.0         Y  \n",
       "95467                16707.00           1.0         N  \n",
       "113748               12500.00           2.0         N  \n",
       "126625                9982.00           1.0         N  \n",
       "130749                9173.75           1.0         N  \n",
       "142062                7300.00           1.0         N  \n",
       "147361                6400.00           1.0         N  \n",
       "168690                3280.00           6.0         N  \n",
       "181677                 992.00           1.0         N  \n",
       "183006                 402.00           1.0         N  \n",
       "290004               20832.00           1.0         N  \n",
       "290273               20832.00           1.0         N  \n",
       "315747               14165.00           1.0         N  \n",
       "448074               20832.00           1.0         N  \n",
       "448225               20832.00           1.0         N  \n",
       "448545               20832.00           1.0         N  "
      ]
     },
     "execution_count": 19,
     "metadata": {},
     "output_type": "execute_result"
    }
   ],
   "source": [
    "ls_data"
   ]
  },
  {
   "cell_type": "markdown",
   "id": "a3431783",
   "metadata": {},
   "source": [
    "All of the businesses have been approved for some amount so, we'll keep them.\n",
    "\n",
    "Now that the data has been observed and cleaned, we can get rid of the last of the columns we no longer need."
   ]
  },
  {
   "cell_type": "code",
   "execution_count": 20,
   "id": "93c8f787",
   "metadata": {},
   "outputs": [],
   "source": [
    "# drop columns\n",
    "ppp_data.drop(columns=['InitialApprovalAmount', 'LoanStatus' ], inplace=True)"
   ]
  },
  {
   "cell_type": "code",
   "execution_count": 21,
   "id": "9e1b5397",
   "metadata": {},
   "outputs": [
    {
     "name": "stdout",
     "output_type": "stream",
     "text": [
      "<class 'pandas.core.frame.DataFrame'>\n",
      "Int64Index: 601262 entries, 0 to 601262\n",
      "Data columns (total 4 columns):\n",
      " #   Column                 Non-Null Count   Dtype  \n",
      "---  ------                 --------------   -----  \n",
      " 0   LoanNumber             601262 non-null  int64  \n",
      " 1   CurrentApprovalAmount  601262 non-null  float64\n",
      " 2   JobsReported           601262 non-null  float64\n",
      " 3   NonProfit              601262 non-null  object \n",
      "dtypes: float64(2), int64(1), object(1)\n",
      "memory usage: 22.9+ MB\n"
     ]
    }
   ],
   "source": [
    "ppp_data.info()"
   ]
  },
  {
   "cell_type": "markdown",
   "id": "c96479f5",
   "metadata": {},
   "source": [
    "The last task to be done before comparing nonprofits and all other businesses is to create two idependent datasets. One dataset with the nonprofits and the other that holds all other businesses not classified as nonprofits."
   ]
  },
  {
   "cell_type": "code",
   "execution_count": 22,
   "id": "58a29e02",
   "metadata": {},
   "outputs": [
    {
     "name": "stdout",
     "output_type": "stream",
     "text": [
      "nonprofit shape: (17919, 4) other businesses shape: (583343, 4)\n"
     ]
    }
   ],
   "source": [
    "# Create nonprofit and other businesses dataset\n",
    "\n",
    "nonpro = ppp_data[ppp_data['NonProfit'] == 'Y']\n",
    "\n",
    "other_biz = ppp_data[ppp_data['NonProfit'] == 'N']\n",
    "\n",
    "print('nonprofit shape:',nonpro.shape, 'other businesses shape:', other_biz.shape)"
   ]
  },
  {
   "cell_type": "markdown",
   "id": "c076373b",
   "metadata": {},
   "source": [
    "So, we'll be working with 17,919 non profits and 583,343 other businesses. This is interesting as the SBA states that nonprofits make up arount 10% of small businesses. 17,919 non profits is definitely not even close of the total amount of businesses used in this analysis. In fact, it's only about 3% of this data set. Interesting."
   ]
  },
  {
   "cell_type": "markdown",
   "id": "67aec1b6",
   "metadata": {},
   "source": [
    "# Everyone Else vs Nonprofits\n",
    "\n",
    "In this next part of this analysis, we want to explore these two samples. \n",
    "We'll be looking at the variables, JobsReported and Approval Amounts being represented in both samples. We'll then look at some statistical features of the data such as the central tendencies and variances of the two samples. This information should help in deciding which statistical test to choose to test whether nonprofits made significantly less than their counterparts."
   ]
  },
  {
   "cell_type": "code",
   "execution_count": 23,
   "id": "e7859496",
   "metadata": {
    "scrolled": true
   },
   "outputs": [
    {
     "name": "stdout",
     "output_type": "stream",
     "text": [
      "<class 'pandas.core.frame.DataFrame'>\n",
      "Int64Index: 17919 entries, 6 to 600888\n",
      "Data columns (total 4 columns):\n",
      " #   Column                 Non-Null Count  Dtype  \n",
      "---  ------                 --------------  -----  \n",
      " 0   LoanNumber             17919 non-null  int64  \n",
      " 1   CurrentApprovalAmount  17919 non-null  float64\n",
      " 2   JobsReported           17919 non-null  float64\n",
      " 3   NonProfit              17919 non-null  object \n",
      "dtypes: float64(2), int64(1), object(1)\n",
      "memory usage: 700.0+ KB\n"
     ]
    }
   ],
   "source": [
    "nonpro.info()\n"
   ]
  },
  {
   "cell_type": "code",
   "execution_count": 24,
   "id": "ab297117",
   "metadata": {},
   "outputs": [
    {
     "name": "stdout",
     "output_type": "stream",
     "text": [
      "<class 'pandas.core.frame.DataFrame'>\n",
      "Int64Index: 583343 entries, 0 to 601262\n",
      "Data columns (total 4 columns):\n",
      " #   Column                 Non-Null Count   Dtype  \n",
      "---  ------                 --------------   -----  \n",
      " 0   LoanNumber             583343 non-null  int64  \n",
      " 1   CurrentApprovalAmount  583343 non-null  float64\n",
      " 2   JobsReported           583343 non-null  float64\n",
      " 3   NonProfit              583343 non-null  object \n",
      "dtypes: float64(2), int64(1), object(1)\n",
      "memory usage: 22.3+ MB\n"
     ]
    }
   ],
   "source": [
    "other_biz.info()"
   ]
  },
  {
   "cell_type": "markdown",
   "id": "99d12164",
   "metadata": {},
   "source": [
    "The data looks like it's all there. There are no missing values."
   ]
  },
  {
   "cell_type": "markdown",
   "id": "97ea5d8a",
   "metadata": {},
   "source": [
    "It is now time to start looking at the data with some graphs and plots."
   ]
  },
  {
   "cell_type": "code",
   "execution_count": 25,
   "id": "118a5203",
   "metadata": {
    "scrolled": false
   },
   "outputs": [
    {
     "data": {
      "text/plain": [
       "Text(0.5, 1.0, 'All Other Businesses Current Approval Amount Correlation Heatmap')"
      ]
     },
     "execution_count": 25,
     "metadata": {},
     "output_type": "execute_result"
    },
    {
     "data": {
      "image/png": "[encoded data removed]",
      "text/plain": [
       "<Figure size 360x360 with 2 Axes>"
      ]
     },
     "metadata": {
      "needs_background": "light"
     },
     "output_type": "display_data"
    }
   ],
   "source": [
    "plt.figure(figsize=(5,5))\n",
    "other_hmap = sns.heatmap(other_biz.corr()[['CurrentApprovalAmount']],annot=True, cmap ='icefire')\n",
    "other_hmap.set_title('All Other Businesses Current Approval Amount Correlation Heatmap')"
   ]
  },
  {
   "cell_type": "code",
   "execution_count": 26,
   "id": "797e5712",
   "metadata": {},
   "outputs": [
    {
     "data": {
      "text/plain": [
       "<matplotlib.legend.Legend at 0x239033c8850>"
      ]
     },
     "execution_count": 26,
     "metadata": {},
     "output_type": "execute_result"
    },
    {
     "data": {
      "image/png": "[encoded data removed]",
      "text/plain": [
       "<Figure size 360x360 with 1 Axes>"
      ]
     },
     "metadata": {
      "needs_background": "light"
     },
     "output_type": "display_data"
    }
   ],
   "source": [
    "plt.figure(figsize=(5,5))\n",
    "\n",
    "other_scatter = sns.scatterplot(data = other_biz, x = 'JobsReported', y = 'CurrentApprovalAmount', hue='JobsReported',palette='crest', alpha = .3)\n",
    "other_scatter.set_title('All Other Businesses Current Approval Amount vs. Jobs Reported')\n",
    "plt.legend(bbox_to_anchor=(1,1),loc='best')"
   ]
  },
  {
   "cell_type": "markdown",
   "id": "10d899d2",
   "metadata": {},
   "source": [
    "There doesn't seem to be any strong correlations between JobsReported and CurrentApprovalAmount. Is this the same for NonProfits?"
   ]
  },
  {
   "cell_type": "code",
   "execution_count": 27,
   "id": "54961527",
   "metadata": {
    "scrolled": false
   },
   "outputs": [
    {
     "data": {
      "text/plain": [
       "Text(0.5, 1.0, 'Nonprofits Current Approval Amount Correlation Heatmap')"
      ]
     },
     "execution_count": 27,
     "metadata": {},
     "output_type": "execute_result"
    },
    {
     "data": {
      "image/png": "[encoded data removed]",
      "text/plain": [
       "<Figure size 360x360 with 2 Axes>"
      ]
     },
     "metadata": {
      "needs_background": "light"
     },
     "output_type": "display_data"
    }
   ],
   "source": [
    "plt.figure(figsize=(5,5))\n",
    "nonpro_hmap = sns.heatmap(nonpro.corr()[['CurrentApprovalAmount']],annot=True, cmap ='icefire')\n",
    "nonpro_hmap.set_title('Nonprofits Current Approval Amount Correlation Heatmap')"
   ]
  },
  {
   "cell_type": "code",
   "execution_count": 28,
   "id": "988048c4",
   "metadata": {},
   "outputs": [
    {
     "data": {
      "text/plain": [
       "<matplotlib.legend.Legend at 0x2390bec4040>"
      ]
     },
     "execution_count": 28,
     "metadata": {},
     "output_type": "execute_result"
    },
    {
     "data": {
      "image/png": "[encoded data removed]",
      "text/plain": [
       "<Figure size 360x360 with 1 Axes>"
      ]
     },
     "metadata": {
      "needs_background": "light"
     },
     "output_type": "display_data"
    }
   ],
   "source": [
    "plt.figure(figsize=(5,5))\n",
    "nonpro_scatter=sns.scatterplot(data = nonpro, x = 'JobsReported', y = 'CurrentApprovalAmount', hue='JobsReported', palette='crest', alpha = 0.5)\n",
    "nonpro_scatter.set_title('Nonprofits Current Approval Amount vs. Jobs Reported')\n",
    "plt.legend(bbox_to_anchor=(1.22,1))"
   ]
  },
  {
   "cell_type": "markdown",
   "id": "b3095553",
   "metadata": {},
   "source": [
    "We see here that the results are about the same. How many jobs businesses reported does not seem to factor into the loan amount a business was approved for. A business that reports 0-100 employees can make as much or as little as a company reporting 500 employees."
   ]
  },
  {
   "cell_type": "markdown",
   "id": "149bfe92",
   "metadata": {},
   "source": [
    "What about the approval amounts in general. Is any business getting the higher loan amounts? Did any nonprofits get the higher loan amounts?"
   ]
  },
  {
   "cell_type": "code",
   "execution_count": 29,
   "id": "f5022367",
   "metadata": {},
   "outputs": [
    {
     "data": {
      "text/plain": [
       "Text(0.5, 1.0, 'All Other Businesses Current Approval Amounts')"
      ]
     },
     "execution_count": 29,
     "metadata": {},
     "output_type": "execute_result"
    },
    {
     "data": {
      "image/png": "[encoded data removed]",
      "text/plain": [
       "<Figure size 360x720 with 1 Axes>"
      ]
     },
     "metadata": {
      "needs_background": "light"
     },
     "output_type": "display_data"
    }
   ],
   "source": [
    "#Box plot for all businesses\n",
    "plt.figure(figsize=(5,10))\n",
    "other_box =sns.boxplot(y = other_biz['CurrentApprovalAmount'], showmeans = True, color ='yellow')\n",
    "other_box.set_title('All Other Businesses Current Approval Amounts')\n",
    "\n"
   ]
  },
  {
   "cell_type": "code",
   "execution_count": 30,
   "id": "9679f45e",
   "metadata": {
    "scrolled": true
   },
   "outputs": [
    {
     "data": {
      "text/html": [
       "<div>\n",
       "<style scoped>\n",
       "    .dataframe tbody tr th:only-of-type {\n",
       "        vertical-align: middle;\n",
       "    }\n",
       "\n",
       "    .dataframe tbody tr th {\n",
       "        vertical-align: top;\n",
       "    }\n",
       "\n",
       "    .dataframe thead th {\n",
       "        text-align: right;\n",
       "    }\n",
       "</style>\n",
       "<table border=\"1\" class=\"dataframe\">\n",
       "  <thead>\n",
       "    <tr style=\"text-align: right;\">\n",
       "      <th></th>\n",
       "      <th>LoanNumber</th>\n",
       "      <th>CurrentApprovalAmount</th>\n",
       "      <th>JobsReported</th>\n",
       "    </tr>\n",
       "  </thead>\n",
       "  <tbody>\n",
       "    <tr>\n",
       "      <th>count</th>\n",
       "      <td>5.833430e+05</td>\n",
       "      <td>583343.000000</td>\n",
       "      <td>583343.000000</td>\n",
       "    </tr>\n",
       "    <tr>\n",
       "      <th>mean</th>\n",
       "      <td>5.486926e+09</td>\n",
       "      <td>27094.773561</td>\n",
       "      <td>4.054837</td>\n",
       "    </tr>\n",
       "    <tr>\n",
       "      <th>std</th>\n",
       "      <td>2.557977e+09</td>\n",
       "      <td>28256.312477</td>\n",
       "      <td>8.076844</td>\n",
       "    </tr>\n",
       "    <tr>\n",
       "      <th>min</th>\n",
       "      <td>1.000027e+09</td>\n",
       "      <td>1.800000</td>\n",
       "      <td>0.000000</td>\n",
       "    </tr>\n",
       "    <tr>\n",
       "      <th>25%</th>\n",
       "      <td>3.313663e+09</td>\n",
       "      <td>8500.000000</td>\n",
       "      <td>1.000000</td>\n",
       "    </tr>\n",
       "    <tr>\n",
       "      <th>50%</th>\n",
       "      <td>5.465968e+09</td>\n",
       "      <td>19249.180000</td>\n",
       "      <td>2.000000</td>\n",
       "    </tr>\n",
       "    <tr>\n",
       "      <th>75%</th>\n",
       "      <td>7.651479e+09</td>\n",
       "      <td>32900.000000</td>\n",
       "      <td>5.000000</td>\n",
       "    </tr>\n",
       "    <tr>\n",
       "      <th>max</th>\n",
       "      <td>9.999009e+09</td>\n",
       "      <td>149999.990000</td>\n",
       "      <td>500.000000</td>\n",
       "    </tr>\n",
       "  </tbody>\n",
       "</table>\n",
       "</div>"
      ],
      "text/plain": [
       "         LoanNumber  CurrentApprovalAmount   JobsReported\n",
       "count  5.833430e+05          583343.000000  583343.000000\n",
       "mean   5.486926e+09           27094.773561       4.054837\n",
       "std    2.557977e+09           28256.312477       8.076844\n",
       "min    1.000027e+09               1.800000       0.000000\n",
       "25%    3.313663e+09            8500.000000       1.000000\n",
       "50%    5.465968e+09           19249.180000       2.000000\n",
       "75%    7.651479e+09           32900.000000       5.000000\n",
       "max    9.999009e+09          149999.990000     500.000000"
      ]
     },
     "execution_count": 30,
     "metadata": {},
     "output_type": "execute_result"
    }
   ],
   "source": [
    "other_biz.describe()"
   ]
  },
  {
   "cell_type": "markdown",
   "id": "73f96d70",
   "metadata": {},
   "source": [
    "In general about 75 percent of all businesses were approved for less than \\\\$32,900. 50 percent of borrowers received less than \\\\$19,249.However, the mean is \\\\$27,094. This data is skewed and any amount greater than about \\\\$70,000 is considered an outlier.\n",
    "\n",
    "How did nonprofits fair?"
   ]
  },
  {
   "cell_type": "code",
   "execution_count": 31,
   "id": "28799747",
   "metadata": {
    "scrolled": false
   },
   "outputs": [
    {
     "data": {
      "text/plain": [
       "Text(0.5, 1.0, 'Nonprofits Current Approval Amounts')"
      ]
     },
     "execution_count": 31,
     "metadata": {},
     "output_type": "execute_result"
    },
    {
     "data": {
      "image/png": "[encoded data removed]",
      "text/plain": [
       "<Figure size 360x720 with 1 Axes>"
      ]
     },
     "metadata": {
      "needs_background": "light"
     },
     "output_type": "display_data"
    }
   ],
   "source": [
    "#Box plot for nonprofits\n",
    "plt.figure(figsize=(5,10))\n",
    "\n",
    "nonpro_box = sns.boxplot(y = nonpro['CurrentApprovalAmount'], showmeans = True, color = 'skyblue')\n",
    "nonpro_box.set_title('Nonprofits Current Approval Amounts')"
   ]
  },
  {
   "cell_type": "code",
   "execution_count": 32,
   "id": "6147fadb",
   "metadata": {},
   "outputs": [
    {
     "data": {
      "text/html": [
       "<div>\n",
       "<style scoped>\n",
       "    .dataframe tbody tr th:only-of-type {\n",
       "        vertical-align: middle;\n",
       "    }\n",
       "\n",
       "    .dataframe tbody tr th {\n",
       "        vertical-align: top;\n",
       "    }\n",
       "\n",
       "    .dataframe thead th {\n",
       "        text-align: right;\n",
       "    }\n",
       "</style>\n",
       "<table border=\"1\" class=\"dataframe\">\n",
       "  <thead>\n",
       "    <tr style=\"text-align: right;\">\n",
       "      <th></th>\n",
       "      <th>LoanNumber</th>\n",
       "      <th>CurrentApprovalAmount</th>\n",
       "      <th>JobsReported</th>\n",
       "    </tr>\n",
       "  </thead>\n",
       "  <tbody>\n",
       "    <tr>\n",
       "      <th>count</th>\n",
       "      <td>1.791900e+04</td>\n",
       "      <td>17919.000000</td>\n",
       "      <td>17919.000000</td>\n",
       "    </tr>\n",
       "    <tr>\n",
       "      <th>mean</th>\n",
       "      <td>5.598605e+09</td>\n",
       "      <td>36702.553703</td>\n",
       "      <td>6.849657</td>\n",
       "    </tr>\n",
       "    <tr>\n",
       "      <th>std</th>\n",
       "      <td>2.544794e+09</td>\n",
       "      <td>31969.363675</td>\n",
       "      <td>10.319359</td>\n",
       "    </tr>\n",
       "    <tr>\n",
       "      <th>min</th>\n",
       "      <td>1.001147e+09</td>\n",
       "      <td>160.000000</td>\n",
       "      <td>1.000000</td>\n",
       "    </tr>\n",
       "    <tr>\n",
       "      <th>25%</th>\n",
       "      <td>3.536747e+09</td>\n",
       "      <td>12908.500000</td>\n",
       "      <td>2.000000</td>\n",
       "    </tr>\n",
       "    <tr>\n",
       "      <th>50%</th>\n",
       "      <td>5.630458e+09</td>\n",
       "      <td>26000.000000</td>\n",
       "      <td>4.000000</td>\n",
       "    </tr>\n",
       "    <tr>\n",
       "      <th>75%</th>\n",
       "      <td>7.742537e+09</td>\n",
       "      <td>51000.000000</td>\n",
       "      <td>8.000000</td>\n",
       "    </tr>\n",
       "    <tr>\n",
       "      <th>max</th>\n",
       "      <td>9.998648e+09</td>\n",
       "      <td>149982.000000</td>\n",
       "      <td>500.000000</td>\n",
       "    </tr>\n",
       "  </tbody>\n",
       "</table>\n",
       "</div>"
      ],
      "text/plain": [
       "         LoanNumber  CurrentApprovalAmount  JobsReported\n",
       "count  1.791900e+04           17919.000000  17919.000000\n",
       "mean   5.598605e+09           36702.553703      6.849657\n",
       "std    2.544794e+09           31969.363675     10.319359\n",
       "min    1.001147e+09             160.000000      1.000000\n",
       "25%    3.536747e+09           12908.500000      2.000000\n",
       "50%    5.630458e+09           26000.000000      4.000000\n",
       "75%    7.742537e+09           51000.000000      8.000000\n",
       "max    9.998648e+09          149982.000000    500.000000"
      ]
     },
     "execution_count": 32,
     "metadata": {},
     "output_type": "execute_result"
    }
   ],
   "source": [
    "nonpro.describe()"
   ]
  },
  {
   "cell_type": "markdown",
   "id": "a5638b9b",
   "metadata": {},
   "source": [
    "Looking at the nonprofits from the sample, 75 percent made less than \\\\$51,000 but, 50 percent made less than \\\\$26,000. This data is also skewed as the mean amount that was approved is \\\\$36,702 which is greater than the median. Any amount over around \\\\$110,000 is considered an outlier. Nonprofits seem to have actually done better than their counterparts.\n",
    "\n",
    "So, how skewed is this data?"
   ]
  },
  {
   "cell_type": "code",
   "execution_count": 33,
   "id": "261d1f61",
   "metadata": {},
   "outputs": [
    {
     "data": {
      "text/plain": [
       "Text(0.5, 1.0, 'All Other Businesses vs Non Profits Current Approval Amounts')"
      ]
     },
     "execution_count": 33,
     "metadata": {},
     "output_type": "execute_result"
    },
    {
     "data": {
      "image/png": "[encoded data removed]",
      "text/plain": [
       "<Figure size 360x720 with 1 Axes>"
      ]
     },
     "metadata": {
      "needs_background": "light"
     },
     "output_type": "display_data"
    }
   ],
   "source": [
    "plt.figure(figsize=(5,10))\n",
    "both_box = sns.boxplot(data=ppp_data, x ='NonProfit', y ='CurrentApprovalAmount',showmeans = True, palette= 'Set2' )\n",
    "plt.xticks([0,1], ['OtherBusinesses', 'NonProfits'])\n",
    "both_box.set(xlabel=None)\n",
    "both_box.set_title('All Other Businesses vs Non Profits Current Approval Amounts')"
   ]
  },
  {
   "cell_type": "code",
   "execution_count": 34,
   "id": "001c1c04",
   "metadata": {
    "scrolled": false
   },
   "outputs": [
    {
     "data": {
      "text/plain": [
       "Text(0.5, 1.0, 'Distribution of Other Businesses')"
      ]
     },
     "execution_count": 34,
     "metadata": {},
     "output_type": "execute_result"
    },
    {
     "data": {
      "image/png": "[encoded data removed]",
      "text/plain": [
       "<Figure size 720x360 with 1 Axes>"
      ]
     },
     "metadata": {
      "needs_background": "light"
     },
     "output_type": "display_data"
    }
   ],
   "source": [
    "# Histogram for all businesses\n",
    "plt.figure(figsize=(10,5))\n",
    "other_hist =sns.histplot(data= other_biz, x = 'CurrentApprovalAmount', kde=True, bins=20, color='orange')\n",
    "other_hist.set_title('Distribution of Other Businesses')"
   ]
  },
  {
   "cell_type": "code",
   "execution_count": 35,
   "id": "fd4c9f9c",
   "metadata": {},
   "outputs": [
    {
     "name": "stdout",
     "output_type": "stream",
     "text": [
      "Skew: 1.962692458872816 Kurtosis: 3.816861435048827\n"
     ]
    }
   ],
   "source": [
    "print('Skew:', other_biz['CurrentApprovalAmount'].skew(),'Kurtosis:', other_biz['CurrentApprovalAmount'].kurt())"
   ]
  },
  {
   "cell_type": "markdown",
   "id": "61708c82",
   "metadata": {},
   "source": [
    "The data is highly skewed and doesn't follow a normal distribution. It also has a high amount of outliers. Let's see about the nonprofits next."
   ]
  },
  {
   "cell_type": "code",
   "execution_count": 36,
   "id": "941ed845",
   "metadata": {},
   "outputs": [
    {
     "data": {
      "text/plain": [
       "Text(0.5, 1.0, 'Distribution of Non Profits')"
      ]
     },
     "execution_count": 36,
     "metadata": {},
     "output_type": "execute_result"
    },
    {
     "data": {
      "image/png": "[encoded data removed]",
      "text/plain": [
       "<Figure size 720x360 with 1 Axes>"
      ]
     },
     "metadata": {
      "needs_background": "light"
     },
     "output_type": "display_data"
    }
   ],
   "source": [
    "# Histogram for nonprofits\n",
    "plt.figure(figsize=(10,5))\n",
    "nonpro_hist=sns.histplot(data= nonpro, x = 'CurrentApprovalAmount', kde=True, bins=20, color = 'skyblue')\n",
    "nonpro_hist.set_title('Distribution of Non Profits')"
   ]
  },
  {
   "cell_type": "code",
   "execution_count": 37,
   "id": "7a3b6e5b",
   "metadata": {},
   "outputs": [
    {
     "name": "stdout",
     "output_type": "stream",
     "text": [
      "Skew: 1.3767091605790844 Kurtosis: 1.430012635403528\n"
     ]
    }
   ],
   "source": [
    "print('Skew:', nonpro['CurrentApprovalAmount'].skew(),'Kurtosis:', nonpro['CurrentApprovalAmount'].kurt())"
   ]
  },
  {
   "cell_type": "markdown",
   "id": "4cba29c8",
   "metadata": {},
   "source": [
    "Comparing the skewness of the nonprofits to all other businesses, it can be seen that nonprofits loan approval amounts are heavily skewed as well. However, there are less outliers than other businesses. It could be said that the amounts distributed to nonprofits were somewhat spead out more than the other businesses. The amounts for non profits also have a lesser degree of skewness than other businesses. "
   ]
  },
  {
   "cell_type": "code",
   "execution_count": 38,
   "id": "15b70160",
   "metadata": {},
   "outputs": [
    {
     "data": {
      "image/png": "[encoded data removed]",
      "text/plain": [
       "<Figure size 720x360 with 1 Axes>"
      ]
     },
     "metadata": {
      "needs_background": "light"
     },
     "output_type": "display_data"
    }
   ],
   "source": [
    "plt.figure(figsize=(10,5))\n",
    "sns.histplot(other_biz, x = 'CurrentApprovalAmount', label =\"All Other Businesses\", kde=True, color =\"orange\", bins =20)\n",
    "sns.histplot(nonpro, x = 'CurrentApprovalAmount', label = \"Nonprofits\", kde=True, color=\"skyblue\", bins=20).set(title='Distribution of Other Businesses and Non Profits')\n",
    "plt.legend()\n",
    "plt.show()"
   ]
  },
  {
   "cell_type": "markdown",
   "id": "13299e2f",
   "metadata": {},
   "source": [
    "Looking at this graph that displays the frequency counts of the approval amounts for all businesses is higher than nonprofits but that is expected because there were very few nonprofits when compared to the rest of the businesses. However, there does seem to be a difference in the shapes of the two distribution that can be seen with the individual plots and the plot with both samples represented. The amounts approved for nonprofits was distributed more in terms of some of the middle and higher loan amounts. \n",
    "\n",
    "The question that remains is, \"Is this difference significant?\""
   ]
  },
  {
   "cell_type": "markdown",
   "id": "b5458ff9",
   "metadata": {},
   "source": [
    "## What now?\n",
    "\n",
    "Due to the data being highly skewed typical statical analysis techniques such as Z-tests and T-tests may not be appropriate. It looks as if nonprofits did not receive less than all other businesses but, we're going to conduct a test on the medians to see if there is a significant difference with a sign test. The null hypothesis the median of nonprofits is greater than or equal to \\\\$19,249. The alternative hypothesis is the median of non profits is less than \\\\$19,249. Alpha for this test is set at .01.\n"
   ]
  },
  {
   "cell_type": "markdown",
   "id": "d83b1425",
   "metadata": {},
   "source": [
    "# Testing For Significant Difference in Median Loan Amounts"
   ]
  },
  {
   "cell_type": "code",
   "execution_count": 39,
   "id": "bb0c54ec",
   "metadata": {},
   "outputs": [
    {
     "name": "stdout",
     "output_type": "stream",
     "text": [
      "positives: 11006\n",
      "negatives: 6913\n",
      "zeros: 0\n",
      "n: 17919\n",
      "x: 6913\n",
      "critical value: -2.3263478740408408\n",
      "z: -30.56882462042061\n",
      "Reject the null hypothesis.\n"
     ]
    }
   ],
   "source": [
    "# Sign Test for Nonprofits v Rest of Population\n",
    "\n",
    "# Get all values above, below, equal to 19,249\n",
    "positive = nonpro[nonpro['CurrentApprovalAmount']>19249]\n",
    "negative = nonpro[nonpro['CurrentApprovalAmount']<19249]\n",
    "zero = nonpro[nonpro['CurrentApprovalAmount']==19249]\n",
    "\n",
    "print(\"positives:\", len(positive))\n",
    "print(\"negatives:\", len(negative))\n",
    "print(\"zeros:\", len(zero))\n",
    "\n",
    "# Get count for sample size (total # + and _)\n",
    "n = len(positive) + len(negative)\n",
    "print(\"n:\", n)\n",
    "\n",
    "# get x which in the minimum of the + and -\n",
    "x = min(len(positive), len(negative))\n",
    "print(\"x:\", x)\n",
    "\n",
    "# Determine critical valuex for this left-tailed test\n",
    "# at alpha = 0.01\n",
    "crit_val =scipy.stats.norm.ppf(.01)\n",
    "print(\"critical value:\", crit_val)\n",
    "\n",
    "# Calculate test statistic z (approximation of p-value for binomial distribution)\n",
    "# because sample greater than 25\n",
    "z = ((x+0.5) -(n/2))/((math.sqrt(n)/2))\n",
    "print(\"z:\", z)\n",
    "\n",
    "# Print results\n",
    "if z < crit_val:\n",
    "    print('Reject the null hypothesis.')\n",
    "else:\n",
    "    print('Fail to reject the null hypothesis.')"
   ]
  },
  {
   "cell_type": "markdown",
   "id": "78f6ea96",
   "metadata": {},
   "source": [
    "## Results and Insights\n",
    "\n",
    "The test statistic ended up being in the critical region because it was -30.569 and the critical value was -2.326.  We have to reject the null hypothesis at the 1% level of significance that nonprofits had a median >= \\\\$19,249.\n",
    "\n",
    "The results don't seem to match my original hypothesis as many more nonprofits were approved for more than \\\\$19,249. In fact 11,006 of the 17,919 amounts in the sample were above \\\\$19,249 while only 6913 of the amounts were below. However, I can agree that there does seem to be a difference in the loan amount distribution between nonprofits and all other businesses. This can be seen from the various graphs and plots conducted earlier in this project. If all recipients were treated in the same manner, the distributions would be assumed to be closer in shape and range. The two sets of data look like they could be from two different samples.\n",
    "\n",
    "Since this data leads to more questions further research would be advised such as:\n",
    "\n",
    "* Looking at the difference between initial loan amounts vs. current. How many were lower or higher than requested?\n",
    "* Looking at percentages of current loan amount averages or medians when compared\n",
    "* Looking at business age description compared to loan amounts\n",
    "*Evaluating if the types of businesses makes a difference in loan amounts\n",
    "* ...and so much more!\n"
   ]
  },
  {
   "cell_type": "markdown",
   "id": "24f06cda",
   "metadata": {},
   "source": [
    "# Sources\n",
    "\n",
    "https://data.sba.gov/dataset/ppp-foia/resource/809345ac-f85d-487e-b07b-f9a34064564d?inner_span=True\n",
    "\n",
    "https://stackoverflow.com/questions/68704002/importerror-cannot-import-name-abcindexclass-from-pandas-core-dtypes-generic\n",
    "\n",
    "https://www.marketwatch.com/story/over-500000-businesses-got-ppp-loans-but-are-listed-as-retaining-zero-jobs-treasury-department-data-show-2020-07-08\n",
    "\n",
    "https://www.chicagotribune.com/coronavirus/ct-ppp-loans-zero-jobs-retained-20200710-uyzhj32tkrgqtn5axyaz2zs3sm-story.html\n",
    "\n",
    "https://www.latimes.com/politics/story/2021-04-01/taxpayers-may-never-know-how-many-jobs-the-1-trillion-ppp-saved-the-government-didnt-keep-count\n",
    "\n",
    "https://elizabethdgroot.medium.com/practice-data-quality-with-python-numpy-and-pandas-da2053fb0114\n",
    "\n",
    "https://stackoverflow.com/questions/45039937/python-pandas-select-rows-where-two-columns-are-not-equal\n",
    "\n",
    "https://evergreensmallbusiness.com/are-one-person-s-corporations-illegal/\n",
    "\n",
    "https://www.upcounsel.com/does-a-corporation-have-to-have-employees#:~:text=As%20distinct%20legal%20entities%2C%20corporations%20have%20a%20variety,once%20it%20has%20filed%20the%20Articles%20of%20Incorporation.\n",
    "\n",
    "https://medium.com/@szabo.bibor/how-to-create-a-seaborn-correlation-heatmap-in-python-834c0686b88e\n",
    "\n",
    "https://www.statology.org/z-critical-value-python/#:~:text=%20How%20to%20Find%20the%20Z%20Critical%20Value,test%2C%20there%20will%20be%20two%20critical...%20More%20\n",
    "\n",
    "https://medium.com/@szabo.bibor/how-to-create-a-seaborn-correlation-heatmap-in-python-834c0686b88e\n",
    "\n",
    "https://www.geeksforgeeks.org/how-to-plot-two-histograms-together-in-matplotlib/\n",
    "\n",
    "\n",
    "https://www.statisticshowto.com/probability-and-statistics/statistics-definitions/parametric-and-non-parametric-data/\n",
    "\n",
    "https://www.tdistributiontable.com\n",
    "\n",
    "https://stats.stackexchange.com/questions/3476/how-to-name-the-ticks-in-a-python-matplotlib-boxplot\n",
    "\n",
    "https://cdn.advocacy.sba.gov/wp-content/uploads/2019/07/24155856/Spotlight-on-Nonprofits.pdf"
   ]
  }
 ],
 "metadata": {
  "kernelspec": {
   "display_name": "Python 3",
   "language": "python",
   "name": "python3"
  },
  "language_info": {
   "codemirror_mode": {
    "name": "ipython",
    "version": 3
   },
   "file_extension": ".py",
   "mimetype": "text/x-python",
   "name": "python",
   "nbconvert_exporter": "python",
   "pygments_lexer": "ipython3",
   "version": "3.8.8"
  }
 },
 "nbformat": 4,
 "nbformat_minor": 5
}
